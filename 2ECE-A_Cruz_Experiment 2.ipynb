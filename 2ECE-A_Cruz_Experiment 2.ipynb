{
 "cells": [
  {
   "cell_type": "markdown",
   "id": "2829469e-4536-417f-9c06-8310042e24c0",
   "metadata": {},
   "source": [
    "# Python Experiment 2"
   ]
  },
  {
   "cell_type": "markdown",
   "id": "9116b4b1-ebd7-41ad-8023-06aa538b2107",
   "metadata": {},
   "source": [
    "#### ==========================================================================\n",
    "#### Name: **Cruz, Kathryn Angel S.**\n",
    "#### Section: **2ECE-A**\n",
    "#### =========================================================================="
   ]
  },
  {
   "cell_type": "markdown",
   "id": "2f6c02ab-6ae5-46f3-a05e-a7c121e820e8",
   "metadata": {},
   "source": [
    "### **PROBLEM 1: NORMALIZATION PROBLEM**\n",
    "In this problem, create a random 5 x 5 ndarray and store it to variable X. Normalize X. Save your normalized \n",
    "ndarray as *X_normalized.nyp*"
   ]
  },
  {
   "cell_type": "code",
   "execution_count": 1,
   "id": "95c3a757-22be-45cd-8129-50fb6cc4a595",
   "metadata": {},
   "outputs": [],
   "source": [
    "import numpy as np"
   ]
  },
  {
   "cell_type": "code",
   "execution_count": 3,
   "id": "096f4191-7d0d-4488-b04d-9259d8a7952c",
   "metadata": {},
   "outputs": [
    {
     "name": "stdout",
     "output_type": "stream",
     "text": [
      "Original Array:\n",
      " [[0.56683661 0.21582953 0.64103044 0.72871331 0.43915539]\n",
      " [0.11175598 0.08952791 0.55263311 0.96455542 0.95184726]\n",
      " [0.56207245 0.64175039 0.97059601 0.32107184 0.79965017]\n",
      " [0.1669734  0.6881613  0.49911502 0.18341069 0.40578512]\n",
      " [0.4328592  0.24545125 0.68834724 0.74683721 0.63606509]] \n",
      "\n",
      "Normalized Array: \n",
      " [[ 0.14178196 -1.2092698   0.42735942  0.76485716 -0.34967235]\n",
      " [-1.60985644 -1.69541392  0.08711166  1.67263057  1.62371592]\n",
      " [ 0.12344435  0.43013055  1.69588122 -0.80418448  1.03789828]\n",
      " [-1.39732058  0.60876952 -0.11888337 -1.33405226 -0.47811692]\n",
      " [-0.37390684 -1.09525363  0.6094852   0.83461735  0.40824743]]\n"
     ]
    }
   ],
   "source": [
    "# Create a randomized 5x5 ndarray\n",
    "X = np.random.random((5,5))\n",
    "\n",
    "# Normalize X using the mean and standard deviation\n",
    "X_mean = X.mean()\n",
    "X_std = X.std()\n",
    "X_normalized = (X-X_mean)/X_std\n",
    "\n",
    "# Saves the normalized ndarray as X_normalized.npy\n",
    "np.save('X_normalized.npy', X_normalized)\n",
    "\n",
    "# Prints the original and normalized arrays\n",
    "print(\"Original Array:\\n\", X, \"\\n\") ; print(\"Normalized Array: \\n\", X_normalized)"
   ]
  },
  {
   "cell_type": "markdown",
   "id": "6b640bc5-631a-4ad7-ab1e-399837814640",
   "metadata": {},
   "source": [
    "### **PROBLEM 2: DIVISIBLE BY 3 PROBLEM**\n",
    "Create the following 10 x 10 ndarray which are the squares of the first 100 positive integers. From this ndarray, determine all the elements that are divisible by 3. Save the result as *div_by_3.npy*."
   ]
  },
  {
   "cell_type": "code",
   "execution_count": 5,
   "id": "f6bec2bc-4a86-4442-b83e-27df73d8ca93",
   "metadata": {},
   "outputs": [
    {
     "name": "stdout",
     "output_type": "stream",
     "text": [
      "Original 10X10 matrix with squared values:\n",
      " [[    1     4     9    16    25    36    49    64    81   100]\n",
      " [  121   144   169   196   225   256   289   324   361   400]\n",
      " [  441   484   529   576   625   676   729   784   841   900]\n",
      " [  961  1024  1089  1156  1225  1296  1369  1444  1521  1600]\n",
      " [ 1681  1764  1849  1936  2025  2116  2209  2304  2401  2500]\n",
      " [ 2601  2704  2809  2916  3025  3136  3249  3364  3481  3600]\n",
      " [ 3721  3844  3969  4096  4225  4356  4489  4624  4761  4900]\n",
      " [ 5041  5184  5329  5476  5625  5776  5929  6084  6241  6400]\n",
      " [ 6561  6724  6889  7056  7225  7396  7569  7744  7921  8100]\n",
      " [ 8281  8464  8649  8836  9025  9216  9409  9604  9801 10000]]\n",
      "\n",
      "Numbers divisible by 3\n",
      " [   9   36   81  144  225  324  441  576  729  900 1089 1296 1521 1764\n",
      " 2025 2304 2601 2916 3249 3600 3969 4356 4761 5184 5625 6084 6561 7056\n",
      " 7569 8100 8649 9216 9801]\n"
     ]
    }
   ],
   "source": [
    "# Create an array of the first 100 positive integers\n",
    "A = np.arange(1,101)\n",
    "\n",
    "# Compute squares of the elements and reshape the array into a 10x10 ndarray\n",
    "A_squared = (np.square(A)).reshape(10,10)\n",
    "\n",
    "# Determine all elements in A_squared that are divisible by 3\n",
    "div_by_3 = A_squared[A_squared%3==0]\n",
    "\n",
    "np.save('div_by_3', div_by_3)\n",
    "\n",
    "print(\"Original 10X10 matrix with squared values:\\n\", A_squared); print(\"\\nNumbers divisible by 3\\n\", div_by_3)"
   ]
  },
  {
   "cell_type": "code",
   "execution_count": null,
   "id": "a029272d-2840-4d19-9551-90d1f4a9478a",
   "metadata": {},
   "outputs": [],
   "source": []
  }
 ],
 "metadata": {
  "kernelspec": {
   "display_name": "Python 3 (ipykernel)",
   "language": "python",
   "name": "python3"
  },
  "language_info": {
   "codemirror_mode": {
    "name": "ipython",
    "version": 3
   },
   "file_extension": ".py",
   "mimetype": "text/x-python",
   "name": "python",
   "nbconvert_exporter": "python",
   "pygments_lexer": "ipython3",
   "version": "3.12.4"
  }
 },
 "nbformat": 4,
 "nbformat_minor": 5
}
